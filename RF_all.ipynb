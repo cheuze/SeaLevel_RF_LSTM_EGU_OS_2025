{
 "cells": [
  {
   "cell_type": "code",
   "execution_count": null,
   "id": "3d5837fd-ac92-4747-bdea-1da04a621826",
   "metadata": {},
   "outputs": [],
   "source": [
    "import glob\n",
    "import pandas as pd\n",
    "import numpy as np\n",
    "import matplotlib.pyplot as plt\n",
    "from sklearn.model_selection import train_test_split\n",
    "from sklearn.ensemble import RandomForestRegressor\n",
    "from sklearn.feature_selection import RFE\n",
    "import csv\n",
    "from sklearn import metrics\n",
    "from scipy.stats import linregress\n",
    "\n",
    "#set your own paths\n",
    "pathdata=r'' #where the predictor and predictand series are stored\n",
    "pathsave=r'' #where you want the statistics and feature importance information to be stored\n",
    "cityZ=['den_helder', 'esbjerg', 'gedser', 'Got', 'helsinki', 'KlagshamnMalmoe', 'lowestoft', 'oslo', 'RatanUmeaa']\n",
    "\n",
    "for icity in cityZ:\n",
    "    Y = pd.read_csv(pathdata+icity+'_target.csv')\n",
    "    Y = np.ravel(Y)\n",
    "    X=pd.read_csv(pathdata+icity+'_predictors.csv')\n",
    "    RMSE=np.zeros(101)\n",
    "    corr=np.zeros(101)\n",
    "    for irand in range(0,101):\n",
    "        X_train, X_test, Y_train, Y_test = train_test_split(X, Y, test_size=0.2, random_state=irand)\n",
    "        model = RandomForestRegressor(bootstrap=True, ccp_alpha=0, max_features = 'sqrt', min_samples_leaf= 2, min_samples_split= 4, n_estimators= 200, max_samples= 0.5)\n",
    "        model.fit(X_train,Y_train)\n",
    "        Y_pred=model.predict(X_test) #without feature importance\n",
    "\n",
    "        #below, for feature importance\n",
    "        #rfe = RFE(estimator=model, n_features_to_select=35, step=1) #36 = 143 / 4\n",
    "        #rfe.fit(X_train, Y_train)\n",
    "        #selected_features = rfe.support_ \n",
    "        #model.fit(np.take(X_train, np.ravel(np.where(rfe.support_==True)), axis=1), Y_train)\n",
    "        #Y_pred=model.predict(np.take(X_test, np.ravel(np.where(rfe.support_==True)), axis=1))\n",
    "        RMSE[irand]=np.sqrt(metrics.mean_squared_error(Y_test, Y_pred))\n",
    "        _, _, corr[irand], _ , _ = linregress(Y_test, Y_pred)\n",
    "        #importances = model.feature_importances_\n",
    "        #features=X.columns.tolist()\n",
    "        #feat_RFE=np.take(features, np.ravel(np.where(rfe.support_==True)), axis=0)\n",
    "        #indices = np.argsort(importances)[::-1]\n",
    "        #outfilename=icity+\"_RF_\"+str(irand)+\".csv\"\n",
    "        #fields = ['Feature','Importance']  \n",
    "        #with open(str(pathsave)+str(outfilename), 'w') as f:\n",
    "        #    f.truncate()\n",
    "        #    writer = csv.writer(f, delimiter='\\t')\n",
    "        #    writer.writerow(fields)\n",
    "        #    writer.writerows(zip([feat_RFE[i] for i in indices],importances[indices]))  \n",
    "    fields=['RMSE','corr']\n",
    "    outfilename=icity+\"_RMSE_conf2.csv\"\n",
    "    with open(str(pathsave)+str(outfilename), 'w') as f:\n",
    "        f.truncate()\n",
    "        writer = csv.writer(f, delimiter='\\t')\n",
    "        writer.writerow(fields)\n",
    "        writer.writerows(zip(RMSE,corr))\n",
    "    print(icity+\" RMSE: \"+str(np.mean(RMSE))+\" \"+str(np.min(RMSE))+\" CORR: \"+str(np.mean(corr))+\" \"+str(np.max(corr)))"
   ]
  }
 ],
 "metadata": {
  "kernelspec": {
   "display_name": "Python 3 (ipykernel)",
   "language": "python",
   "name": "python3"
  },
  "language_info": {
   "codemirror_mode": {
    "name": "ipython",
    "version": 3
   },
   "file_extension": ".py",
   "mimetype": "text/x-python",
   "name": "python",
   "nbconvert_exporter": "python",
   "pygments_lexer": "ipython3",
   "version": "3.12.3"
  }
 },
 "nbformat": 4,
 "nbformat_minor": 5
}
